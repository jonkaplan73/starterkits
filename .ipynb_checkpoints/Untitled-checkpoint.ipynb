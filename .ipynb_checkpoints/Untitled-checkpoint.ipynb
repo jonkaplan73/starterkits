{
 "cells": [
  {
   "cell_type": "code",
   "execution_count": 19,
   "metadata": {},
   "outputs": [],
   "source": [
    "import logging\n",
    "import requests\n",
    "from random import sample\n",
    "import numpy as np"
   ]
  },
  {
   "cell_type": "code",
   "execution_count": 7,
   "metadata": {},
   "outputs": [],
   "source": [
    "x = 46.85133\n",
    "y = 8.934888\n",
    "base_string = 'http://transport.opendata.ch/v1/locations?'\n",
    "full_string = base_string + 'x=' + str(x) + '&y=' + str(y)"
   ]
  },
  {
   "cell_type": "code",
   "execution_count": 10,
   "metadata": {},
   "outputs": [],
   "source": [
    "response = requests.get(full_string)"
   ]
  },
  {
   "cell_type": "code",
   "execution_count": 11,
   "metadata": {},
   "outputs": [
    {
     "data": {
      "text/plain": [
       "{'stations': [{'id': None,\n",
       "   'name': 'Schüsslen, Linthal',\n",
       "   'score': None,\n",
       "   'coordinate': {'type': 'WGS84', 'x': None, 'y': None},\n",
       "   'distance': 210,\n",
       "   'icon': None},\n",
       "  {'id': '8505880',\n",
       "   'name': 'Urnerboden, Klus',\n",
       "   'score': None,\n",
       "   'coordinate': {'type': 'WGS84', 'x': 46.868591, 'y': 8.875189},\n",
       "   'distance': 4940,\n",
       "   'icon': 'bus'}]}"
      ]
     },
     "execution_count": 11,
     "metadata": {},
     "output_type": "execute_result"
    }
   ],
   "source": [
    "response.json()"
   ]
  },
  {
   "cell_type": "code",
   "execution_count": 9,
   "metadata": {},
   "outputs": [
    {
     "ename": "NameError",
     "evalue": "name 'response' is not defined",
     "output_type": "error",
     "traceback": [
      "\u001b[0;31m---------------------------------------------------------------------------\u001b[0m",
      "\u001b[0;31mNameError\u001b[0m                                 Traceback (most recent call last)",
      "\u001b[0;32m<ipython-input-9-ab0153f39f33>\u001b[0m in \u001b[0;36m<module>\u001b[0;34m\u001b[0m\n\u001b[0;32m----> 1\u001b[0;31m \u001b[0mresponse\u001b[0m\u001b[0;34m\u001b[0m\u001b[0;34m\u001b[0m\u001b[0m\n\u001b[0m",
      "\u001b[0;31mNameError\u001b[0m: name 'response' is not defined"
     ]
    }
   ],
   "source": [
    "def get_random_swiss_point():\n",
    "    \"\"\"\n",
    "    Uses basic math to pick a point in a circle that roughly approximates Switzerland\n",
    "    \"\"\"\n",
    "    \n",
    "    logging.info(\"Switzerland doesn't really look like a circle but thats ok!\")\n",
    "    \n",
    "    swi_center_x = 46.801111\n",
    "    swi_center_y = 8.226667\n",
    "    \n",
    "    radius = sample(set(np.arange(0,2.3,0.01)),1)\n",
    "    theta = sample(set(np.arange(0,2*np.pi,0.01)),1)\n",
    "    x = swi_center_x + radius*np.cos(theta)\n",
    "    y = swi_center_y + radius*np.sin(theta)\n",
    "    \n",
    "    return {\"x\": x, \"y\": y}"
   ]
  },
  {
   "cell_type": "code",
   "execution_count": 24,
   "metadata": {},
   "outputs": [
    {
     "data": {
      "text/plain": [
       "3.141592653589793"
      ]
     },
     "execution_count": 24,
     "metadata": {},
     "output_type": "execute_result"
    }
   ],
   "source": []
  }
 ],
 "metadata": {
  "kernelspec": {
   "display_name": "Python 3",
   "language": "python",
   "name": "python3"
  },
  "language_info": {
   "codemirror_mode": {
    "name": "ipython",
    "version": 3
   },
   "file_extension": ".py",
   "mimetype": "text/x-python",
   "name": "python",
   "nbconvert_exporter": "python",
   "pygments_lexer": "ipython3",
   "version": "3.7.2"
  }
 },
 "nbformat": 4,
 "nbformat_minor": 2
}
